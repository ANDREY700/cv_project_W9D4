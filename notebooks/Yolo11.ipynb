{
  "nbformat": 4,
  "nbformat_minor": 0,
  "metadata": {
    "colab": {
      "provenance": [],
      "gpuType": "T4"
    },
    "kernelspec": {
      "name": "python3",
      "display_name": "Python 3"
    },
    "language_info": {
      "name": "python"
    },
    "accelerator": "GPU"
  },
  "cells": [
    {
      "cell_type": "code",
      "execution_count": null,
      "metadata": {
        "collapsed": true,
        "id": "UPqkkss-EoK-"
      },
      "outputs": [],
      "source": [
        "# !pip install ultralytics\n",
        "from ultralytics import YOLO\n",
        "import torch"
      ]
    },
    {
      "cell_type": "code",
      "source": [
        "DEVICE = 'cuda' if torch.cuda.is_available() else 'cpu'"
      ],
      "metadata": {
        "id": "1JDXU7xlFprc"
      },
      "execution_count": null,
      "outputs": []
    },
    {
      "cell_type": "code",
      "source": [
        "# !pip install roboflow\n",
        "\n",
        "from roboflow import Roboflow\n",
        "rf = Roboflow(api_key=\"here was the key\")\n",
        "project = rf.workspace(\"kyle-graupe-jobhn\").project(\"wind-farms\")\n",
        "version = project.version(5)\n",
        "dataset = version.download(\"yolov11\")\n"
      ],
      "metadata": {
        "colab": {
          "base_uri": "https://localhost:8080/"
        },
        "collapsed": true,
        "id": "_p3RHbCIFsRm",
        "outputId": "4801a39e-37c0-49d8-bf2b-a68f265e1025"
      },
      "execution_count": null,
      "outputs": [
        {
          "output_type": "stream",
          "name": "stdout",
          "text": [
            "loading Roboflow workspace...\n",
            "loading Roboflow project...\n"
          ]
        },
        {
          "output_type": "stream",
          "name": "stderr",
          "text": [
            "Downloading Dataset Version Zip in Wind-Farms-5 to yolov11:: 100%|██████████| 651029/651029 [00:09<00:00, 68898.21it/s]"
          ]
        },
        {
          "output_type": "stream",
          "name": "stdout",
          "text": [
            "\n"
          ]
        },
        {
          "output_type": "stream",
          "name": "stderr",
          "text": [
            "\n",
            "Extracting Dataset Version Zip to Wind-Farms-5 in yolov11:: 100%|██████████| 6052/6052 [00:02<00:00, 2442.93it/s]\n"
          ]
        }
      ]
    },
    {
      "cell_type": "code",
      "source": [
        "model = YOLO(\"yolo11m.pt\")"
      ],
      "metadata": {
        "id": "aAjdFjlsIAyn"
      },
      "execution_count": null,
      "outputs": []
    },
    {
      "cell_type": "code",
      "source": [
        "results = model.train(\n",
        "    data=\"/content/Wind-Farms-5/data.yaml\",\n",
        "    epochs=100,\n",
        "    imgsz=640,\n",
        "    batch=16,\n",
        "    device=DEVICE\n",
        "    )"
      ],
      "metadata": {
        "id": "WYzbkBzfIGT4"
      },
      "execution_count": null,
      "outputs": []
    },
    {
      "cell_type": "code",
      "source": [
        "url = \"sample\"\n",
        "\n",
        "results = model.predict(url, conf=0.6)"
      ],
      "metadata": {
        "id": "W-nVB9FoIx5j"
      },
      "execution_count": null,
      "outputs": []
    },
    {
      "cell_type": "code",
      "source": [
        "# Process results list\n",
        "for result in results:\n",
        "    boxes = result.boxes  # bbox нужен для детекции\n",
        "    masks = result.masks  # Маска нужна для сегментации\n",
        "    keypoints = result.keypoints  # Для определения позы\n",
        "    probs = result.probs  # Для классификации найденного объекта\n",
        "    obb = result.obb  # Ориентированный bbox\n",
        "    result.show()  # display to screen"
      ],
      "metadata": {
        "id": "UgS8SX_BIF6i"
      },
      "execution_count": null,
      "outputs": []
    },
    {
      "cell_type": "code",
      "source": [
        "model.export"
      ],
      "metadata": {
        "id": "f6ndpKiJI2Ve"
      },
      "execution_count": null,
      "outputs": []
    }
  ]
}